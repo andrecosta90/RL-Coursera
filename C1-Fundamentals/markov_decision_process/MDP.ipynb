{
 "cells": [
  {
   "cell_type": "markdown",
   "id": "664e5dcc-4f44-4a4d-a82e-1b6d133aa45c",
   "metadata": {},
   "source": [
    "Try defining a simple MDP environment in Python. For example, let's say we have:\n",
    "\n",
    "* Two states: A and B\n",
    "* Two actions: left and right\n",
    "\n",
    "Transition probabilities:\n",
    "* From A, left leads to A with probability 0.9 and to B with probability 0.1.\n",
    "* From A, right leads to B with probability 1.0.\n",
    "* From B, both actions lead back to B with probability 1.0.\n",
    "\n",
    "Rewards: +1 when reaching B, 0 otherwise."
   ]
  },
  {
   "cell_type": "code",
   "execution_count": 31,
   "id": "91b3b193-54eb-4228-a637-7c7370662c41",
   "metadata": {},
   "outputs": [],
   "source": [
    "import random"
   ]
  },
  {
   "cell_type": "code",
   "execution_count": 320,
   "id": "6d2ec575-1505-4539-ad95-001ffebc1388",
   "metadata": {},
   "outputs": [],
   "source": [
    "class MDP:\n",
    "    def __init__(self, params, terminal_states):\n",
    "        self.params = params\n",
    "        self.terminal_states = terminal_states\n",
    "\n",
    "    def next_states(self, state, action):\n",
    "        return self.params[state][action]\n",
    "\n",
    "    def sample_next_state(self, state, action):\n",
    "        transitions = self.next_states(state=state, action=action)\n",
    "        states, probs, rewards = zip(*transitions)\n",
    "\n",
    "        next_state_idx = random.choices(range(len(states)), weights=probs)[0]\n",
    "\n",
    "        return states[next_state_idx], rewards[next_state_idx]\n",
    "\n",
    "    def run_episode(self, start_state, max_steps=10):\n",
    "        state = start_state\n",
    "        steps = 0\n",
    "        total_reward = 0\n",
    "        while state not in self.terminal_states and steps < max_steps:\n",
    "            action = random.choice(list(self.params[state].keys()))\n",
    "            next_state, reward = self.sample_next_state(state, action)\n",
    "            \n",
    "\n",
    "            print(f'episode #{steps}')\n",
    "            print(f'state={state}')\n",
    "            print(f'action={action}')\n",
    "            print(f'next_state={next_state} ; reward={reward}')\n",
    "            print()\n",
    "\n",
    "            total_reward += reward\n",
    "            state = next_state\n",
    "            steps += 1\n",
    "    \n",
    "\n",
    "        return total_reward\n",
    "        "
   ]
  },
  {
   "cell_type": "code",
   "execution_count": 321,
   "id": "5ef00ced-6110-4789-abe7-52fc43f17a54",
   "metadata": {},
   "outputs": [],
   "source": [
    "params = {\n",
    "    'A': {\n",
    "        'left': [('A', 0.9, 0), ('B', 0.1, 1)],\n",
    "        'right': [('B', 1.0, 1)]\n",
    "    },\n",
    "    'B': {\n",
    "        'left': [('B', 1.0, 1)],\n",
    "        'right': [('B', 1.0, 1)]\n",
    "    }\n",
    "}\n",
    "\n",
    "mdp = MDP(params, terminal_states=['B'])"
   ]
  },
  {
   "cell_type": "code",
   "execution_count": 326,
   "id": "fd53003b-9a0b-4333-b475-17b1602ca5b2",
   "metadata": {},
   "outputs": [
    {
     "name": "stdout",
     "output_type": "stream",
     "text": [
      "episode #0\n",
      "state=A\n",
      "action=right\n",
      "next_state=B ; reward=1\n",
      "\n"
     ]
    },
    {
     "data": {
      "text/plain": [
       "1"
      ]
     },
     "execution_count": 326,
     "metadata": {},
     "output_type": "execute_result"
    }
   ],
   "source": [
    "mdp.run_episode('A')"
   ]
  },
  {
   "cell_type": "code",
   "execution_count": null,
   "id": "86b997cb-ecba-459f-b525-5385fcfb8fc4",
   "metadata": {},
   "outputs": [],
   "source": []
  },
  {
   "cell_type": "code",
   "execution_count": null,
   "id": "585d0f06-0ab3-4449-a95c-f376d243f7d5",
   "metadata": {},
   "outputs": [],
   "source": []
  },
  {
   "cell_type": "code",
   "execution_count": null,
   "id": "135b0754-49cc-4655-84b3-935b8a3f1c74",
   "metadata": {},
   "outputs": [],
   "source": []
  },
  {
   "cell_type": "code",
   "execution_count": null,
   "id": "7d95fc15-b62b-456b-9dbf-fdef7ec62d81",
   "metadata": {},
   "outputs": [],
   "source": []
  },
  {
   "cell_type": "code",
   "execution_count": 97,
   "id": "d331030b-5b82-4289-804c-8cdd30096eb6",
   "metadata": {},
   "outputs": [
    {
     "data": {
      "text/plain": [
       "'A'"
      ]
     },
     "execution_count": 97,
     "metadata": {},
     "output_type": "execute_result"
    }
   ],
   "source": [
    "states[0]"
   ]
  },
  {
   "cell_type": "code",
   "execution_count": 101,
   "id": "6f008235-54f1-499c-8f4f-3382d1d6c1f0",
   "metadata": {},
   "outputs": [
    {
     "data": {
      "text/plain": [
       "2"
      ]
     },
     "execution_count": 101,
     "metadata": {},
     "output_type": "execute_result"
    }
   ],
   "source": [
    "mdp.n_states"
   ]
  },
  {
   "cell_type": "code",
   "execution_count": null,
   "id": "0ebf63fd-a0e7-4a3f-8edc-f33eeffcf9d6",
   "metadata": {},
   "outputs": [],
   "source": []
  },
  {
   "cell_type": "code",
   "execution_count": null,
   "id": "04fb7de6-ade8-4ce1-94e4-b0839d35f4d6",
   "metadata": {},
   "outputs": [],
   "source": []
  },
  {
   "cell_type": "code",
   "execution_count": null,
   "id": "86ddad91-7082-4cd5-b887-f5bd3fe6b4d4",
   "metadata": {},
   "outputs": [],
   "source": []
  },
  {
   "cell_type": "code",
   "execution_count": 26,
   "id": "62663b17-b275-4253-8c90-48d197e9d315",
   "metadata": {},
   "outputs": [
    {
     "data": {
      "text/plain": [
       "('A', 'B')"
      ]
     },
     "execution_count": 26,
     "metadata": {},
     "output_type": "execute_result"
    }
   ],
   "source": [
    "states"
   ]
  },
  {
   "cell_type": "code",
   "execution_count": 27,
   "id": "19d0f761-1de6-4d1f-ad92-061c86ef389e",
   "metadata": {},
   "outputs": [
    {
     "data": {
      "text/plain": [
       "(0.9, 0.1)"
      ]
     },
     "execution_count": 27,
     "metadata": {},
     "output_type": "execute_result"
    }
   ],
   "source": [
    "probs"
   ]
  },
  {
   "cell_type": "code",
   "execution_count": 28,
   "id": "81c176f9-96b4-482f-a589-2e861e332249",
   "metadata": {},
   "outputs": [
    {
     "data": {
      "text/plain": [
       "(0, 1)"
      ]
     },
     "execution_count": 28,
     "metadata": {},
     "output_type": "execute_result"
    }
   ],
   "source": [
    "rewards"
   ]
  },
  {
   "cell_type": "code",
   "execution_count": 74,
   "id": "61e7b983-894e-4723-b0b3-5dfa1e44a159",
   "metadata": {},
   "outputs": [
    {
     "data": {
      "text/plain": [
       "['A']"
      ]
     },
     "execution_count": 74,
     "metadata": {},
     "output_type": "execute_result"
    }
   ],
   "source": [
    "random.choices(states, weights=probs)"
   ]
  },
  {
   "cell_type": "code",
   "execution_count": null,
   "id": "3c0677d2-b93e-4578-bdf0-736a10631b6b",
   "metadata": {},
   "outputs": [],
   "source": []
  },
  {
   "cell_type": "code",
   "execution_count": null,
   "id": "f71cda23-1881-48b3-9295-51f6879d6379",
   "metadata": {},
   "outputs": [],
   "source": []
  },
  {
   "cell_type": "code",
   "execution_count": null,
   "id": "bf310197-c14d-42c5-984f-5187d46122f7",
   "metadata": {},
   "outputs": [],
   "source": []
  },
  {
   "cell_type": "code",
   "execution_count": null,
   "id": "07123bd2-c5c0-4bf3-aa53-dd42533bb158",
   "metadata": {},
   "outputs": [],
   "source": []
  },
  {
   "cell_type": "code",
   "execution_count": null,
   "id": "05d3594b-7948-49d5-9524-aa3141bbfca4",
   "metadata": {},
   "outputs": [],
   "source": []
  },
  {
   "cell_type": "code",
   "execution_count": null,
   "id": "97514d12-e46a-4036-a6cd-17a764b87d02",
   "metadata": {},
   "outputs": [],
   "source": []
  },
  {
   "cell_type": "code",
   "execution_count": null,
   "id": "e38dc294-c026-4074-b1ad-fef8106e11d2",
   "metadata": {},
   "outputs": [],
   "source": []
  }
 ],
 "metadata": {
  "kernelspec": {
   "display_name": "Python 3 (ipykernel)",
   "language": "python",
   "name": "python3"
  },
  "language_info": {
   "codemirror_mode": {
    "name": "ipython",
    "version": 3
   },
   "file_extension": ".py",
   "mimetype": "text/x-python",
   "name": "python",
   "nbconvert_exporter": "python",
   "pygments_lexer": "ipython3",
   "version": "3.10.12"
  }
 },
 "nbformat": 4,
 "nbformat_minor": 5
}
